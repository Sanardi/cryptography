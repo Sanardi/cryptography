{
 "cells": [
  {
   "cell_type": "code",
   "execution_count": 1,
   "metadata": {},
   "outputs": [
    {
     "name": "stdout",
     "output_type": "stream",
     "text": [
      "Requirement already satisfied: cryptography in c:\\users\\bla\\anaconda3\\lib\\site-packages (2.7)\n",
      "Requirement already satisfied: asn1crypto>=0.21.0 in c:\\users\\bla\\anaconda3\\lib\\site-packages (from cryptography) (1.0.1)\n",
      "Requirement already satisfied: cffi!=1.11.3,>=1.8 in c:\\users\\bla\\anaconda3\\lib\\site-packages (from cryptography) (1.12.3)\n",
      "Requirement already satisfied: six>=1.4.1 in c:\\users\\bla\\anaconda3\\lib\\site-packages (from cryptography) (1.15.0)\n",
      "Requirement already satisfied: pycparser in c:\\users\\bla\\anaconda3\\lib\\site-packages (from cffi!=1.11.3,>=1.8->cryptography) (2.19)\n",
      "Note: you may need to restart the kernel to use updated packages.\n"
     ]
    }
   ],
   "source": [
    "%pip install cryptography"
   ]
  },
  {
   "cell_type": "code",
   "execution_count": 4,
   "metadata": {},
   "outputs": [
    {
     "name": "stdout",
     "output_type": "stream",
     "text": [
      "The cipher text is :  .rehpic esrever nialpxe ot margorp si sihT\n"
     ]
    }
   ],
   "source": [
    "message = 'This is program to explain reverse cipher.'\n",
    "translated = '' #cipher text is stored in this variable\n",
    "i = len(message) - 1\n",
    "\n",
    "while i >= 0:\n",
    "   translated = translated + message[i]\n",
    "   i = i - 1\n",
    "print('The cipher text is : ', translated)"
   ]
  },
  {
   "cell_type": "code",
   "execution_count": 9,
   "metadata": {},
   "outputs": [
    {
     "name": "stdout",
     "output_type": "stream",
     "text": [
      "Plain Text : CEASER CIPHER DEMO\n",
      "Shift pattern : 4\n",
      "Cipher: GIEWIVrGMTLIVrHIQS\n"
     ]
    }
   ],
   "source": [
    "#ceasar cypher:\n",
    "\n",
    "def encrypt(text,s):\n",
    "    result = \"\"\n",
    "   # transverse the plain text\n",
    "    for i in range(len(text)):\n",
    "        char = text[i]\n",
    "      # Encrypt uppercase characters in plain text\n",
    "      \n",
    "        if (char.isupper()):\n",
    "            result += chr((ord(char) + s-65) % 26 + 65)\n",
    "      # Encrypt lowercase characters in plain text\n",
    "        else:\n",
    "            result += chr((ord(char) + s - 97) % 26 + 97)\n",
    "    return result\n",
    "#check the above function\n",
    "text = \"CEASER CIPHER DEMO\"\n",
    "s = 4\n",
    "\n",
    "print(\"Plain Text : \" + text)\n",
    "print(\"Shift pattern : \" + str(s))\n",
    "print (\"Cipher: \" + encrypt(text,s))"
   ]
  },
  {
   "cell_type": "code",
   "execution_count": 13,
   "metadata": {},
   "outputs": [
    {
     "name": "stdout",
     "output_type": "stream",
     "text": [
      "Hacking key #0: GIEWIVrGMTLIVrHIQS\n",
      "Hacking key #1: FHDVHUrFLSKHUrGHPR\n",
      "Hacking key #2: EGCUGTrEKRJGTrFGOQ\n",
      "Hacking key #3: DFBTFSrDJQIFSrEFNP\n",
      "Hacking key #4: CEASERrCIPHERrDEMO\n",
      "Hacking key #5: BDZRDQrBHOGDQrCDLN\n",
      "Hacking key #6: ACYQCPrAGNFCPrBCKM\n",
      "Hacking key #7: ZBXPBOrZFMEBOrABJL\n",
      "Hacking key #8: YAWOANrYELDANrZAIK\n",
      "Hacking key #9: XZVNZMrXDKCZMrYZHJ\n",
      "Hacking key #10: WYUMYLrWCJBYLrXYGI\n",
      "Hacking key #11: VXTLXKrVBIAXKrWXFH\n",
      "Hacking key #12: UWSKWJrUAHZWJrVWEG\n",
      "Hacking key #13: TVRJVIrTZGYVIrUVDF\n",
      "Hacking key #14: SUQIUHrSYFXUHrTUCE\n",
      "Hacking key #15: RTPHTGrRXEWTGrSTBD\n",
      "Hacking key #16: QSOGSFrQWDVSFrRSAC\n",
      "Hacking key #17: PRNFRErPVCURErQRZB\n",
      "Hacking key #18: OQMEQDrOUBTQDrPQYA\n",
      "Hacking key #19: NPLDPCrNTASPCrOPXZ\n",
      "Hacking key #20: MOKCOBrMSZROBrNOWY\n",
      "Hacking key #21: LNJBNArLRYQNArMNVX\n",
      "Hacking key #22: KMIAMZrKQXPMZrLMUW\n",
      "Hacking key #23: JLHZLYrJPWOLYrKLTV\n",
      "Hacking key #24: IKGYKXrIOVNKXrJKSU\n",
      "Hacking key #25: HJFXJWrHNUMJWrIJRT\n"
     ]
    }
   ],
   "source": [
    "message = 'GIEWIVrGMTLIVrHIQS' #encrypted message\n",
    "LETTERS = 'ABCDEFGHIJKLMNOPQRSTUVWXYZ'\n",
    "\n",
    "for key in range(len(LETTERS)):\n",
    "    translated = ''\n",
    "    for symbol in message:\n",
    "        if symbol in LETTERS:\n",
    "            num = LETTERS.find(symbol)\n",
    "            num = num - key\n",
    "            if num < 0:\n",
    "                num = num + len(LETTERS)\n",
    "            translated = translated + LETTERS[num]\n",
    "        else:\n",
    "            translated = translated + symbol\n",
    "    print('Hacking key #%s: %s' % (key, translated))"
   ]
  },
  {
   "cell_type": "code",
   "execution_count": 18,
   "metadata": {},
   "outputs": [
    {
     "ename": "ImportError",
     "evalue": "cannot import name 'maketrans' from 'string' (C:\\Users\\bla\\Anaconda3\\lib\\string.py)",
     "output_type": "error",
     "traceback": [
      "\u001b[1;31m---------------------------------------------------------------------------\u001b[0m",
      "\u001b[1;31mImportError\u001b[0m                               Traceback (most recent call last)",
      "\u001b[1;32m<ipython-input-18-44707b6c31a2>\u001b[0m in \u001b[0;36m<module>\u001b[1;34m\u001b[0m\n\u001b[1;32m----> 1\u001b[1;33m \u001b[1;32mfrom\u001b[0m \u001b[0mstring\u001b[0m \u001b[1;32mimport\u001b[0m \u001b[0mmaketrans\u001b[0m\u001b[1;33m\u001b[0m\u001b[1;33m\u001b[0m\u001b[0m\n\u001b[0m\u001b[0;32m      2\u001b[0m \u001b[1;33m\u001b[0m\u001b[0m\n\u001b[0;32m      3\u001b[0m rot13trans = maketrans('ABCDEFGHIJKLMNOPQRSTUVWXYZabcdefghijklmnopqrstuvwxyz', \n\u001b[0;32m      4\u001b[0m    'NOPQRSTUVWXYZABCDEFGHIJKLMnopqrstuvwxyzabcdefghijklm')\n\u001b[0;32m      5\u001b[0m \u001b[1;33m\u001b[0m\u001b[0m\n",
      "\u001b[1;31mImportError\u001b[0m: cannot import name 'maketrans' from 'string' (C:\\Users\\bla\\Anaconda3\\lib\\string.py)"
     ]
    }
   ],
   "source": [
    "from string import maketrans\n",
    "\n",
    "rot13trans = maketrans('ABCDEFGHIJKLMNOPQRSTUVWXYZabcdefghijklmnopqrstuvwxyz', \n",
    "   'NOPQRSTUVWXYZABCDEFGHIJKLMnopqrstuvwxyzabcdefghijklm')\n",
    "\n",
    "# Function to translate plain text\n",
    "def rot13(text):\n",
    "    return text.translate(rot13trans)\n",
    "def main():\n",
    "    txt = \"ROT13 Algorithm\"\n",
    "    print(rot13(txt))\n",
    "\n",
    "if __name__ == \"__main__\":\n",
    "    main()"
   ]
  },
  {
   "cell_type": "code",
   "execution_count": 28,
   "metadata": {},
   "outputs": [
    {
     "name": "stdout",
     "output_type": "stream",
     "text": [
      "LEHOL\n"
     ]
    }
   ],
   "source": [
    "def split_len(seq, length):\n",
    "    return [seq[i:i + length] for i in range(0, len(seq), length)]\n",
    "def encode(key, plaintext):\n",
    "    order = {\n",
    "      int(val): num for num, val in enumerate(key)\n",
    "   }\n",
    "    \n",
    "    ciphertext = ''\n",
    "\n",
    "    for index in sorted(order.keys()):\n",
    "        for part in split_len(plaintext, len(key)):\n",
    "            try:ciphertext += part[order[index]]\n",
    "            except IndexError:\n",
    "                continue\n",
    "    return ciphertext\n",
    "print(encode('3214', 'HELLO'))"
   ]
  },
  {
   "cell_type": "code",
   "execution_count": 31,
   "metadata": {},
   "outputs": [
    {
     "name": "stdout",
     "output_type": "stream",
     "text": [
      "Collecting pyperclip\n",
      "  Downloading https://files.pythonhosted.org/packages/6f/4c/0b1d507ad7e8bc31d690d04b4f475e74c2002d060f7994ce8c09612df707/pyperclip-1.8.1.tar.gz\n",
      "Building wheels for collected packages: pyperclip\n",
      "  Building wheel for pyperclip (setup.py): started\n",
      "  Building wheel for pyperclip (setup.py): finished with status 'done'\n",
      "  Created wheel for pyperclip: filename=pyperclip-1.8.1-cp37-none-any.whl size=11123 sha256=0bc3ca940beb8a68e0e71ae9c3e5623b94b5b07b90bc50a7acb3b17e757eab9c\n",
      "  Stored in directory: C:\\Users\\bla\\AppData\\Local\\pip\\Cache\\wheels\\44\\10\\3a\\c830e9bb3db2c93274ea1f213a41fabde0d8cf3794251fad0c\n",
      "Successfully built pyperclip\n",
      "Installing collected packages: pyperclip\n",
      "Successfully installed pyperclip-1.8.1\n",
      "Note: you may need to restart the kernel to use updated packages.\n",
      "Cipher Text is\n",
      "Tiroann sCpiopshietr|\n"
     ]
    }
   ],
   "source": [
    "#%pip install pyperclip\n",
    "import pyperclip\n",
    "\n",
    "   \n",
    "def encryptMessage(key, message):\n",
    "    ciphertext = [''] * key\n",
    "   \n",
    "    for col in range(key):\n",
    "        position = col\n",
    "        while position < len(message):\n",
    "            ciphertext[col] += message[position]\n",
    "            position += key\n",
    "    return ''.join(ciphertext) #Cipher text\n",
    "\n",
    "myMessage = 'Transposition Cipher'\n",
    "myKey = 10\n",
    "ciphertext = encryptMessage(myKey, myMessage)\n",
    "   \n",
    "print(\"Cipher Text is\")\n",
    "print(ciphertext + '|')\n",
    "pyperclip.copy(ciphertext)\n"
   ]
  },
  {
   "cell_type": "code",
   "execution_count": 70,
   "metadata": {},
   "outputs": [
    {
     "name": "stdout",
     "output_type": "stream",
     "text": [
      "The hexadecimal equivalent of hash is : "
     ]
    },
    {
     "data": {
      "text/plain": [
       "'5d41402abc4b2a76b9719d911017c592'"
      ]
     },
     "execution_count": 70,
     "metadata": {},
     "output_type": "execute_result"
    }
   ],
   "source": [
    "# Python 3 code to demonstrate the  \n",
    "# working of MD5 (byte - byte) \n",
    "  \n",
    "import hashlib \n",
    "# encoding GeeksforGeeks using md5 hash \n",
    "# function  \n",
    "str2hash = \"hello\"\n",
    "  \n",
    "# encoding GeeksforGeeks using encode() \n",
    "# then sending to md5() \n",
    "result = hashlib.md5(str2hash.encode()) \n",
    "  \n",
    "# printing the equivalent hexadecimal value. \n",
    "print(\"The hexadecimal equivalent of hash is : \", end =\"\") \n",
    "tocrack = result.hexdigest()\n",
    "tocrack"
   ]
  },
  {
   "cell_type": "code",
   "execution_count": null,
   "metadata": {},
   "outputs": [],
   "source": []
  },
  {
   "cell_type": "code",
   "execution_count": 71,
   "metadata": {},
   "outputs": [
    {
     "name": "stdout",
     "output_type": "stream",
     "text": [
      "5d41402abc4b2a76b9719d911017c592\n"
     ]
    },
    {
     "data": {
      "text/plain": [
       "'5d41402abc4b2a76b9719d911017c592'"
      ]
     },
     "execution_count": 71,
     "metadata": {},
     "output_type": "execute_result"
    }
   ],
   "source": [
    "txt = \"abcdefghijklmnopqrstuvwxyz\";\n",
    "\n",
    "for i in range(len(txt)):\n",
    "        ch1 = txt[i]\n",
    "        for j in range(len(txt)):\n",
    "            ch2 = txt[j]\n",
    "            for k in range(len(txt)):\n",
    "                ch3 = txt[k]\n",
    "                for l in range(len(txt)):\n",
    "                    ch4 = txt[l]\n",
    "                    for m in range(len(txt)):\n",
    "                        ch5 = txt[m]\n",
    "            \n",
    "    \n",
    "                        testcode = ch1 + ch2 + ch3 +ch4 + ch5  \n",
    "\n",
    "                        check = hashlib.md5(testcode.encode()) \n",
    "                        trycrack = check.hexdigest()\n",
    "\n",
    "                        if trycrack == tocrack:\n",
    "                            \n",
    "                            break\n",
    "                        else:\n",
    "                            continue\n",
    "                        break\n",
    "                    if trycrack == tocrack:\n",
    "                        \n",
    "                        break\n",
    "                    else:\n",
    "                        continue\n",
    "                    break\n",
    "                if trycrack == tocrack:\n",
    "                    \n",
    "                    break\n",
    "                else:\n",
    "                    continue\n",
    "                break\n",
    "            if trycrack == tocrack:\n",
    "                \n",
    "                break\n",
    "            else:\n",
    "                continue\n",
    "            break\n",
    "        if trycrack == tocrack:\n",
    "            print(trycrack)\n",
    "            break\n",
    "        else:\n",
    "            continue\n",
    "        break\n",
    "            \n",
    "            \n",
    "    \n",
    "    \n",
    "                    \n",
    "                    \n",
    "                \n",
    "            \n",
    "              \n",
    "\n",
    "        \n",
    "trycrack"
   ]
  },
  {
   "cell_type": "code",
   "execution_count": 72,
   "metadata": {},
   "outputs": [
    {
     "data": {
      "text/plain": [
       "'hello'"
      ]
     },
     "execution_count": 72,
     "metadata": {},
     "output_type": "execute_result"
    }
   ],
   "source": [
    "testcode"
   ]
  },
  {
   "cell_type": "code",
   "execution_count": null,
   "metadata": {},
   "outputs": [],
   "source": [
    "<?php\n",
    "ini_set('max_execution_time', 300); //300 seconds = 5 minutes\n",
    "$goodtext = \"Not found\";\n",
    "// If there is no parameter, this code is all skipped\n",
    "if ( isset($_GET['md5']) ) {\n",
    "    $time_pre = microtime(true);\n",
    "    $md5 = $_GET['md5'];\n",
    "\n",
    "    // This is our alphabet\n",
    "    $txt = \"abcdefghijklmnopqrstuvwxyz\";\n",
    "    $show = 25;\n",
    "\n",
    "    // Outer loop go go through the alphabet for the\n",
    "    // first position in our \"possible\" pre-hash\n",
    "    // text\n",
    "    for($i=0; $i<strlen($txt); $i++ ) {\n",
    "        $ch1 = $txt[$i];   // The first of six characters\n",
    "\n",
    "        // Our inner loop Note the use of new variables\n",
    "        // $j and $ch2\n",
    "        for($j=0; $j<strlen($txt); $j++ ) {\n",
    "            $ch2 = $txt[$j];  // Our second character\n",
    "\n",
    "            for($k=0; $k<strlen($txt); $k++ ) {\n",
    "                $ch3 = $txt[$k];  // Our third character\n",
    "\n",
    "                for($l=0; $l<strlen($txt); $l++ ) {\n",
    "                    $ch4 = $txt[$l];  // Our forth character\n",
    "\n",
    "                    for($l=0; $l<strlen($txt); $l++ ) {\n",
    "                    $ch5 = $txt[$l];  // Our fith character\n",
    "\n",
    "                        for($l=0; $l<strlen($txt); $l++ ) {\n",
    "                        $ch6 = $txt[$l];  // Our sixth character\n",
    "\n",
    "\n",
    "            // Concatenate the six characters together to\n",
    "            // form the \"possible\" pre-hash text\n",
    "            $try = $ch1.$ch2.$ch3.$ch4.$ch5.$ch6;                                                                                                                  \n",
    "\n",
    "            // Run the hash and then check to see if we match\n",
    "            $check = hash('md5', $try);\n",
    "\n",
    "            if ( $check == $md5 ) {\n",
    "                $goodtext = $try;\n",
    "                break;   // Exit the inner loop\n",
    "            }\n",
    "\n",
    "            // Debug output until $show hits 0\n",
    "            if ( $show > 0 ) {\n",
    "                print \"$check $try\\n\";\n",
    "                $show = $show - 1;\n",
    "                }\n",
    "              }                                                                                                     \n",
    "            }\n",
    "        }\n",
    "    }\n",
    "    // Compute elapsed time\n",
    "    $time_post = microtime(true);\n",
    "    print \"Elapsed time: \";\n",
    "    print $time_post-$time_pre;\n",
    "    print \"\\n\";\n",
    "}\n",
    "?>                                                                  "
   ]
  }
 ],
 "metadata": {
  "kernelspec": {
   "display_name": "Python 3",
   "language": "python",
   "name": "python3"
  },
  "language_info": {
   "codemirror_mode": {
    "name": "ipython",
    "version": 3
   },
   "file_extension": ".py",
   "mimetype": "text/x-python",
   "name": "python",
   "nbconvert_exporter": "python",
   "pygments_lexer": "ipython3",
   "version": "3.7.4"
  }
 },
 "nbformat": 4,
 "nbformat_minor": 2
}
